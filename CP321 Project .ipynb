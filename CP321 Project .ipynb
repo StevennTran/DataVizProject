{
 "cells": [
  {
   "cell_type": "markdown",
   "metadata": {},
   "source": [
    "Name: Steven Tran AND Russell Goldman \n",
    "\n",
    "Student ID: 170574740 AND"
   ]
  },
  {
   "cell_type": "code",
   "execution_count": 61,
   "metadata": {},
   "outputs": [
    {
     "data": {
      "text/html": [
       "<div>\n",
       "<style scoped>\n",
       "    .dataframe tbody tr th:only-of-type {\n",
       "        vertical-align: middle;\n",
       "    }\n",
       "\n",
       "    .dataframe tbody tr th {\n",
       "        vertical-align: top;\n",
       "    }\n",
       "\n",
       "    .dataframe thead th {\n",
       "        text-align: right;\n",
       "    }\n",
       "</style>\n",
       "<table border=\"1\" class=\"dataframe\">\n",
       "  <thead>\n",
       "    <tr style=\"text-align: right;\">\n",
       "      <th></th>\n",
       "      <th>Percentage of Grade 3 Students Achieving the Provincial Standard in Reading</th>\n",
       "      <th>Percentage of Grade 3 Students Achieving the Provincial Standard in Writing</th>\n",
       "      <th>Percentage of Grade 3 Students Achieving the Provincial Standard in Mathematics</th>\n",
       "      <th>Percentage of Children Who Live in Low-Income Households</th>\n",
       "      <th>Percentage of Students Whose Parents Have Some University Education</th>\n",
       "    </tr>\n",
       "    <tr>\n",
       "      <th>School Type</th>\n",
       "      <th></th>\n",
       "      <th></th>\n",
       "      <th></th>\n",
       "      <th></th>\n",
       "      <th></th>\n",
       "    </tr>\n",
       "  </thead>\n",
       "  <tbody>\n",
       "    <tr>\n",
       "      <td>Catholic</td>\n",
       "      <td>77.803069</td>\n",
       "      <td>74.982112</td>\n",
       "      <td>63.201014</td>\n",
       "      <td>18.058756</td>\n",
       "      <td>42.617825</td>\n",
       "    </tr>\n",
       "    <tr>\n",
       "      <td>Public</td>\n",
       "      <td>72.864752</td>\n",
       "      <td>69.183040</td>\n",
       "      <td>59.042747</td>\n",
       "      <td>19.179611</td>\n",
       "      <td>41.667498</td>\n",
       "    </tr>\n",
       "  </tbody>\n",
       "</table>\n",
       "</div>"
      ],
      "text/plain": [
       "             Percentage of Grade 3 Students Achieving the Provincial Standard in Reading  \\\n",
       "School Type                                                                                \n",
       "Catholic                                             77.803069                             \n",
       "Public                                               72.864752                             \n",
       "\n",
       "             Percentage of Grade 3 Students Achieving the Provincial Standard in Writing  \\\n",
       "School Type                                                                                \n",
       "Catholic                                             74.982112                             \n",
       "Public                                               69.183040                             \n",
       "\n",
       "             Percentage of Grade 3 Students Achieving the Provincial Standard in Mathematics  \\\n",
       "School Type                                                                                    \n",
       "Catholic                                             63.201014                                 \n",
       "Public                                               59.042747                                 \n",
       "\n",
       "             Percentage of Children Who Live in Low-Income Households  \\\n",
       "School Type                                                             \n",
       "Catholic                                             18.058756          \n",
       "Public                                               19.179611          \n",
       "\n",
       "             Percentage of Students Whose Parents Have Some University Education  \n",
       "School Type                                                                       \n",
       "Catholic                                             42.617825                    \n",
       "Public                                               41.667498                    "
      ]
     },
     "execution_count": 61,
     "metadata": {},
     "output_type": "execute_result"
    }
   ],
   "source": [
    "import pandas as pd\n",
    "import matplotlib.pyplot as plt\n",
    "import seaborn as sns \n",
    "\n",
    "h1 = \"School Type\"\n",
    "h2 = \"Percentage of Grade 3 Students Achieving the Provincial Standard in Reading\"\n",
    "h3 = \"Percentage of Grade 3 Students Achieving the Provincial Standard in Writing\"\n",
    "h4 = \"Percentage of Grade 3 Students Achieving the Provincial Standard in Mathematics\"\n",
    "\n",
    "h5 = \"Percentage of Grade 6 Students Achieving the Provincial Standard in Reading\"\n",
    "h6 = \"Percentage of Grade 6 Students Achieving the Provincial Standard in Writing\"\n",
    "h7 = \"Percentage of Grade 6 Students Achieving the Provincial Standard in Mathematics\"\n",
    "\n",
    "h8 = 'Percentage of Children Who Live in Low-Income Households'\n",
    "h9 = 'Percentage of Students Whose Parents Have Some University Education'\n",
    "\n",
    "\n",
    "\n",
    "df = pd.read_excel(\"data/EQAO_Statistics.xlsx\", sheet_name = \"SIF_1718prelim_EQAO1718_EN\")\n",
    "df = df.loc[(df[\"School Level\"] == \"Elementary\") & (df[\"School Type\"] == \"Catholic\") | (df[\"School Type\"] == \"Public\")]\n",
    "df = df[[h1, h2, h3, h4, h5, h6, h7, h8, h9]]\n",
    "\n",
    "dfGrade3 = df[[h1, h2, h3, h4, h8, h9]]\n",
    "dfGrade3 = dfGrade3.groupby([h1]).mean()\n",
    "\n",
    "dfGrade6 = df[[h1, h5, h6, h7, h8,h9]]\n",
    "dfGrade6 = dfGrade6.groupby([h1]).mean()\n",
    "\n",
    "# dfGrade3\n",
    "# dfGrade6\n"
   ]
  },
  {
   "cell_type": "code",
   "execution_count": null,
   "metadata": {},
   "outputs": [],
   "source": []
  },
  {
   "cell_type": "code",
   "execution_count": null,
   "metadata": {},
   "outputs": [],
   "source": []
  }
 ],
 "metadata": {
  "kernelspec": {
   "display_name": "Python 3",
   "language": "python",
   "name": "python3"
  },
  "language_info": {
   "codemirror_mode": {
    "name": "ipython",
    "version": 3
   },
   "file_extension": ".py",
   "mimetype": "text/x-python",
   "name": "python",
   "nbconvert_exporter": "python",
   "pygments_lexer": "ipython3",
   "version": "3.7.4"
  }
 },
 "nbformat": 4,
 "nbformat_minor": 2
}
