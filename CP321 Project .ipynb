{
 "cells": [
  {
   "cell_type": "markdown",
   "metadata": {},
   "source": [
    "Name: Steven Tran AND Russell Goldman \n",
    "\n",
    "Student ID: 170574740 AND"
   ]
  },
  {
   "cell_type": "code",
   "execution_count": 5,
   "metadata": {},
   "outputs": [],
   "source": [
    "import pandas as pd\n",
    "df = pd.read_excel(\"data/EQAO_Statistics.xlsx\", sheet_name = \"SIF_1718prelim_EQAO1718_EN\")\n",
    "df = df.loc[(df[\"School Level\"] == \"Elementary\")]\n",
    "df = df[['Board Name', 'Percentage of Grade 3 Students Achieving the Provincial Standard in Reading','Percentage of Grade 3 Students Achieving the Provincial Standard in Writing','Percentage of Grade 3 Students Achieving the Provincial Standard in Mathematics','Percentage of Grade 6 Students Achieving the Provincial Standard in Reading','Percentage of Grade 6 Students Achieving the Provincial Standard in Writing','Percentage of Grade 6 Students Achieving the Provincial Standard in Mathematics','Percentage of Children Who Live in Low-Income Households','Percentage of Students Whose Parents Have Some University Education']]\n",
    "\n",
    "dfGrade3 = df[[\"Board Name\",'Percentage of Grade 3 Students Achieving the Provincial Standard in Reading','Percentage of Grade 3 Students Achieving the Provincial Standard in Writing','Percentage of Grade 3 Students Achieving the Provincial Standard in Mathematics','Percentage of Children Who Live in Low-Income Households','Percentage of Students Whose Parents Have Some University Education']]\n",
    "dfGrade3 = dfGrade3.groupby([\"Board Name\"])\n",
    "dfGrade3\n",
    "dfGrade6 = df[['Board Name', 'Percentage of Grade 6 Students Achieving the Provincial Standard in Reading','Percentage of Grade 6 Students Achieving the Provincial Standard in Writing','Percentage of Grade 6 Students Achieving the Provincial Standard in Mathematics','Percentage of Children Who Live in Low-Income Households','Percentage of Students Whose Parents Have Some University Education']]\n",
    "\n",
    "\n"
   ]
  },
  {
   "cell_type": "code",
   "execution_count": null,
   "metadata": {},
   "outputs": [],
   "source": []
  }
 ],
 "metadata": {
  "kernelspec": {
   "display_name": "Python 3",
   "language": "python",
   "name": "python3"
  },
  "language_info": {
   "codemirror_mode": {
    "name": "ipython",
    "version": 3
   },
   "file_extension": ".py",
   "mimetype": "text/x-python",
   "name": "python",
   "nbconvert_exporter": "python",
   "pygments_lexer": "ipython3",
   "version": "3.7.4"
  }
 },
 "nbformat": 4,
 "nbformat_minor": 2
}
